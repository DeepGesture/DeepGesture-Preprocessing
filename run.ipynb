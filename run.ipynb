{
 "cells": [
  {
   "cell_type": "code",
   "execution_count": 1,
   "metadata": {},
   "outputs": [],
   "source": [
    "import shutil\n",
    "import os\n",
    "\n",
    "def copy_wav_files(file_list, source_dir, destination_dir):\n",
    "    \"\"\"\n",
    "    Copies .wav files from the source directory to the destination directory.\n",
    "\n",
    "    :param file_list: List of .wav filenames to be copied.\n",
    "    :param source_dir: Directory where the files are currently located.\n",
    "    :param destination_dir: Directory where the files will be copied to.\n",
    "    \"\"\"\n",
    "    # Ensure the destination directory exists\n",
    "    os.makedirs(destination_dir, exist_ok=True)\n",
    "    \n",
    "    for file_name in file_list:\n",
    "        # Construct full file paths\n",
    "        source_path = os.path.join(source_dir, file_name)\n",
    "        destination_path = os.path.join(destination_dir, file_name)\n",
    "        \n",
    "        try:\n",
    "            # Copy the file\n",
    "            shutil.copy(source_path, destination_path)\n",
    "            print(f\"Copied {file_name} to {destination_dir}\")\n",
    "        except FileNotFoundError:\n",
    "            print(f\"File {file_name} not found in {source_dir}. Skipping.\")\n",
    "        except Exception as e:\n",
    "            print(f\"Error copying {file_name}: {e}\")"
   ]
  },
  {
   "cell_type": "code",
   "execution_count": 4,
   "metadata": {},
   "outputs": [],
   "source": [
    "bvh_list = [\"001_Neutral_0_x_1_0.bvh\",\n",
    "\"002_Neutral_1_x_1_0.bvh\",\n",
    "\"003_Neutral_2_x_1_0.bvh\",\n",
    "\"004_Neutral_3_x_1_0.bvh\",\n",
    "\"006_Sad_0_x_1_0.bvh\",\n",
    "\"007_Sad_1_x_1_0.bvh\",\n",
    "\"009_Sad_3_x_1_0.bvh\",\n",
    "\"011_Happy_0_x_1_0.bvh\",\n",
    "\"012_Happy_1_x_1_0.bvh\",\n",
    "\"016_Relaxed_0_x_1_0.bvh\",\n",
    "\"017_Relaxed_1_x_1_0.bvh\",\n",
    "\"018_Relaxed_2_x_1_0.bvh\",\n",
    "\"019_Relaxed_3_x_1_0.bvh\",\n",
    "\"021_Old_0_x_1_0.bvh\",\n",
    "\"023_Old_2_x_1_0.bvh\",\n",
    "\"024_Old_3_x_1_0.bvh\",\n",
    "\"026_Angry_0_x_1_0.bvh\",\n",
    "\"027_Angry_1_x_1_0.bvh\",\n",
    "\"028_Angry_2_x_1_0.bvh\",\n",
    "\"030_Agreement_0_x_1_0.bvh\",\n",
    "\"031_Disagreement_0_x_1_0.bvh\",\n",
    "\"036_Flirty_0_x_1_0.bvh\",\n",
    "\"037_Flirty_1_x_1_0.bvh\",\n",
    "\"039_Pensive_0_x_1_0.bvh\",\n",
    "\"040_Pensive_1_x_1_0.bvh\",\n",
    "\"042_Scared_0_x_1_0.bvh\",\n",
    "\"043_Scared_1_x_1_0.bvh\",\n",
    "\"045_Distracted_0_x_1_0.bvh\",\n",
    "\"046_Distracted_1_x_1_0.bvh\",\n",
    "\"049_Sarcastic_1_x_1_0.bvh\",\n",
    "\"051_Threatening_0_x_1_0.bvh\",\n",
    "\"054_Still_0_x_1_0.bvh\",\n",
    "\"055_Still_1_x_1_0.bvh\",\n",
    "\"057_Laughing_0_x_1_0.bvh\",\n",
    "\"060_Sneaky_1_x_1_0.bvh\",\n",
    "\"062_Tired_0_x_1_0.bvh\",\n",
    "\"063_Tired_1_x_1_0.bvh\"]"
   ]
  },
  {
   "cell_type": "code",
   "execution_count": 5,
   "metadata": {},
   "outputs": [
    {
     "name": "stdout",
     "output_type": "stream",
     "text": [
      "Copied 001_Neutral_0_x_1_0.bvh to ./test/bvh\n",
      "Copied 002_Neutral_1_x_1_0.bvh to ./test/bvh\n",
      "Copied 003_Neutral_2_x_1_0.bvh to ./test/bvh\n",
      "Copied 004_Neutral_3_x_1_0.bvh to ./test/bvh\n",
      "Copied 006_Sad_0_x_1_0.bvh to ./test/bvh\n",
      "Copied 007_Sad_1_x_1_0.bvh to ./test/bvh\n",
      "Copied 009_Sad_3_x_1_0.bvh to ./test/bvh\n",
      "Copied 011_Happy_0_x_1_0.bvh to ./test/bvh\n",
      "Copied 012_Happy_1_x_1_0.bvh to ./test/bvh\n",
      "Copied 016_Relaxed_0_x_1_0.bvh to ./test/bvh\n",
      "Copied 017_Relaxed_1_x_1_0.bvh to ./test/bvh\n",
      "Copied 018_Relaxed_2_x_1_0.bvh to ./test/bvh\n",
      "Copied 019_Relaxed_3_x_1_0.bvh to ./test/bvh\n",
      "Copied 021_Old_0_x_1_0.bvh to ./test/bvh\n",
      "Copied 023_Old_2_x_1_0.bvh to ./test/bvh\n",
      "Copied 024_Old_3_x_1_0.bvh to ./test/bvh\n",
      "Copied 026_Angry_0_x_1_0.bvh to ./test/bvh\n",
      "Copied 027_Angry_1_x_1_0.bvh to ./test/bvh\n",
      "Copied 028_Angry_2_x_1_0.bvh to ./test/bvh\n",
      "Copied 030_Agreement_0_x_1_0.bvh to ./test/bvh\n",
      "Copied 031_Disagreement_0_x_1_0.bvh to ./test/bvh\n",
      "Copied 036_Flirty_0_x_1_0.bvh to ./test/bvh\n",
      "Copied 037_Flirty_1_x_1_0.bvh to ./test/bvh\n",
      "Copied 039_Pensive_0_x_1_0.bvh to ./test/bvh\n",
      "Copied 040_Pensive_1_x_1_0.bvh to ./test/bvh\n",
      "Copied 042_Scared_0_x_1_0.bvh to ./test/bvh\n",
      "Copied 043_Scared_1_x_1_0.bvh to ./test/bvh\n",
      "Copied 045_Distracted_0_x_1_0.bvh to ./test/bvh\n",
      "Copied 046_Distracted_1_x_1_0.bvh to ./test/bvh\n",
      "Copied 049_Sarcastic_1_x_1_0.bvh to ./test/bvh\n",
      "Copied 051_Threatening_0_x_1_0.bvh to ./test/bvh\n",
      "Copied 054_Still_0_x_1_0.bvh to ./test/bvh\n",
      "Copied 055_Still_1_x_1_0.bvh to ./test/bvh\n",
      "Copied 057_Laughing_0_x_1_0.bvh to ./test/bvh\n",
      "Copied 060_Sneaky_1_x_1_0.bvh to ./test/bvh\n",
      "Copied 062_Tired_0_x_1_0.bvh to ./test/bvh\n",
      "Copied 063_Tired_1_x_1_0.bvh to ./test/bvh\n"
     ]
    }
   ],
   "source": [
    "copy_wav_files(bvh_list, './data/bvh', './test/bvh')"
   ]
  },
  {
   "cell_type": "code",
   "execution_count": null,
   "metadata": {},
   "outputs": [],
   "source": []
  }
 ],
 "metadata": {
  "kernelspec": {
   "display_name": "base",
   "language": "python",
   "name": "python3"
  },
  "language_info": {
   "codemirror_mode": {
    "name": "ipython",
    "version": 3
   },
   "file_extension": ".py",
   "mimetype": "text/x-python",
   "name": "python",
   "nbconvert_exporter": "python",
   "pygments_lexer": "ipython3",
   "version": "3.11.6"
  }
 },
 "nbformat": 4,
 "nbformat_minor": 2
}
